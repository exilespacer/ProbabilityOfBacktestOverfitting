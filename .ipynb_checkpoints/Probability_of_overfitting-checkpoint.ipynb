{
 "cells": [
  {
   "cell_type": "markdown",
   "metadata": {
    "slideshow": {
     "slide_type": "slide"
    }
   },
   "source": [
    "# Millions Ways to Avoid Backtest Overfitting when Builing a Strategy\n",
    "<br>\n",
    "<br>\n",
    "$$\\text{Chia-Yi Yen}$$"
   ]
  },
  {
   "cell_type": "markdown",
   "metadata": {
    "slideshow": {
     "slide_type": "slide"
    }
   },
   "source": [
    "## I hope I can bring you something...\n",
    "\n",
    "1. Keep remind yourself the overfitting issue (when building a strategy)\n",
    "2. Introduce a new approach to quantify the backtest overfitting\n",
    "3. Python tookit for financial investment analysis\n"
   ]
  },
  {
   "cell_type": "markdown",
   "metadata": {
    "slideshow": {
     "slide_type": "slide"
    }
   },
   "source": [
    "###There are millions way to avoid backtest overfitting, but I would only focus on new approach today, and compare to other approach.\n",
    "\n",
    "## A New Way to Avoid Backtest Overfitting when building a strategy\n"
   ]
  },
  {
   "cell_type": "markdown",
   "metadata": {
    "slideshow": {
     "slide_type": "slide"
    }
   },
   "source": [
    "## Recall the overfitting\n",
    "The overfitting may look like this:\n",
    "<img src=\"fig/overfitting_looklike.jpg\">\n",
    "The overfitting model does not have any predictive power for the future"
   ]
  },
  {
   "cell_type": "markdown",
   "metadata": {
    "slideshow": {
     "slide_type": "slide"
    }
   },
   "source": [
    "# Let's look at the problem when build a strategy\n",
    "\n",
    "## Your strategy capture the signal or noise ?\n",
    "* Nature phenomenon v.s. Random pattern\n",
    "* Sometimes we only fit the noise, and then overfitting happened.\n",
    "\n",
    "## Danger! The overfitting of strategy selection by backtest "
   ]
  },
  {
   "cell_type": "markdown",
   "metadata": {
    "slideshow": {
     "slide_type": "slide"
    }
   },
   "source": [
    "## How does backtest overfitting look like?\n",
    "The in-sample performance is perfect while the out-of-sample performance is disppointed.\n",
    "<img src=\"fig/is_backtest_overfitting_looklike.jpg\">"
   ]
  },
  {
   "cell_type": "markdown",
   "metadata": {
    "slideshow": {
     "slide_type": "subslide"
    }
   },
   "source": [
    "<img src=\"fig/oos_backtest_overfitting_looklike.jpg\">"
   ]
  },
  {
   "cell_type": "markdown",
   "metadata": {
    "slideshow": {
     "slide_type": "slide"
    }
   },
   "source": [
    "# Quantify the degree of Backtest Overfitting\n",
    "## Reference\n",
    "Bailey, David H. and Borwein, Jonathan M. and Lopez de Prado, Marcos and Zhu, Qiji Jim, The Probability of Backtest Overfitting (February 27, 2015). Journal of Computational Finance (Risk Journals), 2015, Forthcoming. Available at SSRN: http://ssrn.com/abstract=2326253 or http://dx.doi.org/10.2139/ssrn.2326253\n",
    "\n",
    "* One of talk in R Finance conference 2014\n",
    "* release applications in python\n",
    "* intuitive & simple to understand\n",
    "* easy to apply to any strategy selection process"
   ]
  },
  {
   "cell_type": "markdown",
   "metadata": {
    "slideshow": {
     "slide_type": "slide"
    }
   },
   "source": [
    "## Definition of backtest overfitting\n",
    "<img src=\"fig/definition_of_backtest_overfit.png\">\n",
    "<img src=\"fig/definition_of_probability_of_overfitting.png\">\n"
   ]
  },
  {
   "cell_type": "markdown",
   "metadata": {
    "slideshow": {
     "slide_type": "subslide"
    }
   },
   "source": [
    "## Intuition of backtest overfitting\n",
    "* Not overfitting: the optimal in-sample strategy should also outperform most of strategy out-of-sample. \n",
    "* Overfitting: it's more likely to underperform most of strategy out-of-samlpe. \n",
    "* Here we define \"most of strategy\" to 50% strategy.\n",
    "\n",
    "### Definition of Backtest Overfitting in short\n",
    "the optimal IS strategy is worse than 50% strategy when OOS\n",
    "$$ \\text{rank(optimal in-sample strategy) < }\\frac{N}{2} \\text{ when evaluate out-of-sample}$$\n",
    "\n",
    "### Note\n",
    "It's the overfitting of \"Stock selection process\", instead of \"Strategy model calibration\"."
   ]
  },
  {
   "cell_type": "markdown",
   "metadata": {
    "slideshow": {
     "slide_type": "slide"
    }
   },
   "source": [
    "## Implement: CSCV\n",
    "### the Combinational Symmetric Cross Validation procedure\n",
    "1. Collect a matrix M of profit & loss time series for each strategy \n",
    "2. Split M into S disjoint submatrices\n",
    "    * for example, $M_s$ in [$M_1$, $M_2$, $M_3$, $M_4$] if S=4\n",
    "3. Generate all combination $C_s$ from $M_s$\n",
    "    * for example\n",
    "        * training sets = [$M_1$ + $M_2$ ,   $M_1$ +$M_3$,   $M_1$ + $M_4$, ...] (in-sample)\n",
    "        * testing   sets = [$M_3$ + $M_4$ ,   $M_2$ +$M_4$,   $M_2$ + $M_3$, ...] (out-of-sample)\n",
    "4. Each c in $C_s$,\n",
    "    1. compute in-sample & out-of-sample performance \n",
    "    2. find the optimal in-sample strategy, and its corresponding out-of-sample performance\n",
    "    3. get the relative rank $r_{oos}$ among all the out-of-sample performance\n",
    "    4. compute the logit $\\lambda_c$ = ln($\\frac{r_{oos}}{1- r_{bar}}$ )\n",
    "5. compute the probability of backtest overfitting\n",
    "    * PBO = $\\frac{\\#(\\lambda_c < 0) }{ \\#(\\lambda_c)}$\n",
    "6. hypothesis test\n",
    "    * $H_0$: the strategy selection process is overfitting\n",
    "    * $\\lambda_c$ ~ asymtopic Normal distribution\n",
    "    * PBO < 0.05, reject the $H_0$\n",
    "\n"
   ]
  },
  {
   "cell_type": "markdown",
   "metadata": {
    "collapsed": true,
    "slideshow": {
     "slide_type": "slide"
    }
   },
   "source": [
    "## Thanks for the powerful scientific computing python packages.\n",
    "We can easily implement this procedure. see the <a href=\"http://nbviewer.ipython.org/github/exilespacer/ProbabilityOfBacktestOverfitting/blob/master/CSCV.ipynb\">CSCV.ipynb</a>"
   ]
  },
  {
   "cell_type": "markdown",
   "metadata": {
    "collapsed": true,
    "slideshow": {
     "slide_type": "slide"
    }
   },
   "source": [
    "## Why we use CSCV procedure? Why not others?\n",
    "* Why not \"hold-out\" approach?\n",
    "    1. Does not work for small data.\n",
    "        <p>Waste lots of precious data to testing set. And may not be able to apply the performance measure.</p>\n",
    "    2. High variance when use different hold-out\n",
    "    3. Hold-out the last period, or the earliest period?\n",
    "    <p>If you hold the last period, you loss the training data that you're most interested in; while if you hold the earliest period, you test the period that you don't really care about.</p>\n",
    "    4. Cannot prevent overfitting as long as you try enough times\n",
    "    <p>You might meet the testing set that has similar pattern just by luck</p>\n",
    " "
   ]
  },
  {
   "cell_type": "markdown",
   "metadata": {
    "slideshow": {
     "slide_type": "subslide"
    }
   },
   "source": [
    "## Why we use CSCV procedure? Why not others?(cont.)\n",
    "* Why not \"K-fold cross validation\"?\n",
    "    1. K could not be too large \n",
    "    <p>ensure each partition has enough data to compute a reliable performance measure</p>\n",
    "    2. K could not be too small\n",
    "    <p>Or it would like \"hold-out\" method.</p>\n",
    "* Why not \"leave-one-out cross validation\"?\n",
    "    1. Single testing data point might not be able to compute the performace measure\n",
    "    2. Different size of trainingh and testing set is not fair when we compare the performance in the traing set and in the testing set."
   ]
  },
  {
   "cell_type": "markdown",
   "metadata": {
    "collapsed": true,
    "slideshow": {
     "slide_type": "slide"
    }
   },
   "source": [
    "## Why we use CSCV procedure? The advantage?\n",
    "* The same size for training and testing set size\n",
    "<p>Some performace measure might be sensitive to the sample size. By CSCV,  we can ensure the training and testing set would be in the same size, and thus could be in a comparable basis.</p>\n",
    "<br>\n",
    "\n",
    "* Symmetric\n",
    "<p>The training set would be re-used to be testing set. So a bad out-of-sample performance is not from how you split your data.</p>\n",
    "<br>\n",
    "\n",
    "* Preserve the important characteristics of time-dependence  for financial time series\n",
    "<p>Unlike K-fold, the CSCV procedure doesn't implement a random shuffle of the performace series. The significant time pattern would be preserved.</p>\n",
    "<br>"
   ]
  },
  {
   "cell_type": "markdown",
   "metadata": {
    "slideshow": {
     "slide_type": "subslide"
    }
   },
   "source": [
    "## Why we use CSCV procedure? The advantage?(cont.)\n",
    "* Non-random logit distribution for hypothesis test\n",
    "<p>Unlike bootstrapping, you can get the same result if you run a CSCV procedure twice because each logit is from a deterministic set of data partition </p>\n",
    "<br>\n",
    "\n",
    "* Dispersion in logit would indicate the robustness of your strategy selection process\n",
    "<p>If the distribution of logits have a small dispersion, it means your process is robust. You get a very simlilar result for each trials.</p>\n",
    "<br>\n",
    "\n",
    "* Model-free and non-parametric procedure to estimate the probability of backtest overfitting\n",
    "<p>We don't need to know the trading rule or the distribution of underlying. Only require the time series of backtest performance.</p>\n",
    "<br>"
   ]
  },
  {
   "cell_type": "markdown",
   "metadata": {
    "slideshow": {
     "slide_type": "slide"
    }
   },
   "source": [
    "## Limitation\n",
    "1. The performace measure could not be too sensitive to the order of data.\n",
    "    <p>It is because the re-combinaiton of data partition. </p>\n",
    "2. Assum all the sample strategy has equal probability, and thus the logits would be equally-weighted.\n",
    "    <p>You can implement this weighting allocation into this procedure.</p>"
   ]
  },
  {
   "cell_type": "markdown",
   "metadata": {
    "slideshow": {
     "slide_type": "slide"
    }
   },
   "source": [
    "## Some practice application\n",
    "\n",
    "### Think of a strategy like that:\n",
    "Building a strategy to profit from seasonal effect. For example, Side=Buy (or sell) a stock at the EntryDate = 4th day every month, and holding for N_holds=3 days. Stop loss when reach StopLoss=-3\n",
    "\n",
    "### The parameter\n",
    "    1. Side = Buy or Sell\n",
    "    2. EntryDate = 1~22\n",
    "    3. N_holds =1~20\n",
    "    4. StopLoss = 0 ~ -10 \n",
    "    \n",
    " ### you can find the code <a href=\"http://www.quantresearch.info/Software.htm\">here</a>"
   ]
  },
  {
   "cell_type": "markdown",
   "metadata": {
    "collapsed": true,
    "slideshow": {
     "slide_type": "slide"
    }
   },
   "source": [
    "### Pure noise: Return from random walk \n",
    "<img src=\"fig/overfit_backtest.png\">"
   ]
  },
  {
   "cell_type": "markdown",
   "metadata": {
    "slideshow": {
     "slide_type": "subslide"
    }
   },
   "source": [
    "### Pure noise: Return from random walk \n",
    "<img src=\"fig/overfit_pbo.png\">"
   ]
  },
  {
   "cell_type": "markdown",
   "metadata": {
    "collapsed": true,
    "slideshow": {
     "slide_type": "slide"
    }
   },
   "source": [
    "### Signal: Return from random walk, with the first-5-day each month the same variance\n",
    "<img src=\"fig/nonoverfit_backtest.png\">"
   ]
  },
  {
   "cell_type": "markdown",
   "metadata": {
    "slideshow": {
     "slide_type": "subslide"
    }
   },
   "source": [
    "### Signal: Return from random walk, with the first-5-day each month the same variance\n",
    "<img src=\"fig/nonoverfit_pbo.png\">"
   ]
  },
  {
   "cell_type": "markdown",
   "metadata": {
    "slideshow": {
     "slide_type": "slide"
    }
   },
   "source": [
    "# Thank you for your attention :)"
   ]
  }
 ],
 "metadata": {
  "celltoolbar": "Slideshow",
  "kernelspec": {
   "display_name": "Python 2",
   "language": "python",
   "name": "python2"
  },
  "language_info": {
   "codemirror_mode": {
    "name": "ipython",
    "version": 2
   },
   "file_extension": ".py",
   "mimetype": "text/x-python",
   "name": "python",
   "nbconvert_exporter": "python",
   "pygments_lexer": "ipython2",
   "version": "2.7.6"
  }
 },
 "nbformat": 4,
 "nbformat_minor": 0
}
