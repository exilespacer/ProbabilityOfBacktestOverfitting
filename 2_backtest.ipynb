{
 "cells": [
  {
   "cell_type": "markdown",
   "metadata": {
    "slideshow": {
     "slide_type": "slide"
    }
   },
   "source": [
    "# 來聊聊回測吧"
   ]
  },
  {
   "cell_type": "markdown",
   "metadata": {
    "slideshow": {
     "slide_type": "slide"
    }
   },
   "source": [
    "#2 Backtest\n",
    "* TDD - test-driven development\n",
    "* \"backtest\"-driven development\n",
    "* 科學研究 = 大膽假設 + 小心驗證\n",
    "* 量化投資也是一樣\n",
    "* 驗證的其中之一方法就是:回測\n",
    "* 回測：使用歷史數據來驗證投資策略的表現，也就是說，先拿歷史資料試試水溫，確定在過去活的下來\n",
    "* 表現\n",
    "    * 勝率\n",
    "    * 歷史獲利\n",
    "    * 報酬率、虧損率\n",
    "    * 持有時間\n",
    "    * 交易次數\n",
    "* 回測的限制\n",
    "    1. 過去不代表未來\n",
    "        * 有一只火鸡在笼子里被喂养了1000天，这只火鸡确信，每天都会有友善的人类“照顾它的最佳利益”。直到复活节的前一天，也就是火鸡在笼子里的第1001天，它依然认为主人还会来喂食，而没有想到它的大限已至（烤火鸡是感恩节的传统食物）。\n",
    "        * 回测亦是如此：它只能计算在已经成为历史的“historical data”上一个策略的表现，不能完美地预测这个策略在未来的表现。\n",
    "    2. 無法測試交互作用（market impact）\n",
    "        * 在实际的投资过程中，资金的流动会反过来影响市场的变化的，即：市场中的买入操作会抬升价格，而抛售操作会压低价格。但在回测的时候，历史数据是无法对策略的运作发生反应的"
   ]
  },
  {
   "cell_type": "markdown",
   "metadata": {
    "slideshow": {
     "slide_type": "slide"
    }
   },
   "source": [
    "# open source 回測工具\n",
    "* quantmod\n",
    "* quantopian"
   ]
  },
  {
   "cell_type": "code",
   "execution_count": null,
   "metadata": {
    "collapsed": true,
    "slideshow": {
     "slide_type": "slide"
    }
   },
   "outputs": [],
   "source": []
  }
 ],
 "metadata": {
  "celltoolbar": "Slideshow",
  "kernelspec": {
   "display_name": "R",
   "language": "R",
   "name": "ir"
  },
  "language_info": {
   "codemirror_mode": "r",
   "file_extension": ".r",
   "mimetype": "text/x-r-source",
   "name": "R",
   "pygments_lexer": "r",
   "version": "3.1.2"
  }
 },
 "nbformat": 4,
 "nbformat_minor": 0
}
