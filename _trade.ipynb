{
 "cells": [
  {
   "cell_type": "markdown",
   "metadata": {
    "slideshow": {
     "slide_type": "slide"
    }
   },
   "source": [
    "# 來聊聊「交易」吧！\n",
    "<img src=\"fig/trading.jpg\" height=430>\n",
    "* reference: https://commons.wikimedia.org/wiki/File:Forex.jpg"
   ]
  },
  {
   "cell_type": "markdown",
   "metadata": {
    "slideshow": {
     "slide_type": "slide"
    }
   },
   "source": [
    "# 從一個大家打開電視都會看到的辭彙開始好了..."
   ]
  },
  {
   "cell_type": "markdown",
   "metadata": {
    "slideshow": {
     "slide_type": "slide"
    }
   },
   "source": [
    "# 關於投顧老師常講的技術分析，你一定看過類似的畫面吧\n",
    "* 利用過去的歷史資料，透過圖表來預測價格趨勢\n",
    "<img src=\"fig/MAcross.jpg\" height=430>"
   ]
  },
  {
   "cell_type": "markdown",
   "metadata": {
    "slideshow": {
     "slide_type": "slide"
    }
   },
   "source": [
    "# 技術分析的美麗與哀惆\n",
    "* 不科學？金融煉金術？市場噪音交易者？愚蠢的散戶？\n",
    "* 從經濟學的供給關係來看 market behavior ?\n",
    "<img src=\"fig/MAcross.jpg\" height=300>"
   ]
  },
  {
   "cell_type": "markdown",
   "metadata": {
    "slideshow": {
     "slide_type": "slide"
    }
   },
   "source": [
    "# 那為什麼技術分析被視為不科學，如此惡名昭彰？\n",
    "* 科學是，大膽假設，小心驗證\n",
    "* 你，小心驗證了嗎？"
   ]
  },
  {
   "cell_type": "markdown",
   "metadata": {
    "slideshow": {
     "slide_type": "slide"
    }
   },
   "source": [
    "# 主觀交易與客觀交易的差異: 科學否？\n",
    "* 主觀交易，智慧的累積，一種類似手感的神祕能力XD \n",
    "* 客觀交易，清楚定義交易規則，透過科學的方式進行驗證，例如：回測"
   ]
  },
  {
   "cell_type": "markdown",
   "metadata": {
    "slideshow": {
     "slide_type": "-"
    }
   },
   "source": [
    "補充說明：觀察 -> 假說 ->  預測 -> 驗證 -> 結論"
   ]
  },
  {
   "cell_type": "markdown",
   "metadata": {
    "slideshow": {
     "slide_type": "slide"
    }
   },
   "source": [
    "# 如果大家想看看如何開發交易框架的例子，這裡有些大大XD\n",
    "* 菲利浦大大 http://www.slideshare.net/philipzh/2-15362832\n",
    "* 高嘉良大大 http://www.slideshare.net/clkao/trading-with-open-source-tools-preview"
   ]
  },
  {
   "cell_type": "markdown",
   "metadata": {
    "slideshow": {
     "slide_type": "slide"
    }
   },
   "source": [
    "# 科學的客觀交易不容易\n",
    "* 舉個例子，你的價格資料從哪裡來？\n",
    "* 有錢的人用 Bloomberg / Reutors \n",
    "* 沒錢的人用 yahoo finance / google finance\n",
    "* 小心 survival bias !"
   ]
  },
  {
   "cell_type": "code",
   "execution_count": null,
   "metadata": {
    "collapsed": true
   },
   "outputs": [],
   "source": []
  }
 ],
 "metadata": {
  "celltoolbar": "Slideshow",
  "kernelspec": {
   "display_name": "R",
   "language": "R",
   "name": "ir"
  },
  "language_info": {
   "codemirror_mode": "r",
   "file_extension": ".r",
   "mimetype": "text/x-r-source",
   "name": "R",
   "pygments_lexer": "r",
   "version": "3.1.2"
  }
 },
 "nbformat": 4,
 "nbformat_minor": 0
}
