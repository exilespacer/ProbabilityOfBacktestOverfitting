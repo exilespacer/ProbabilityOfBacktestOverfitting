{
 "cells": [
  {
   "cell_type": "markdown",
   "metadata": {
    "slideshow": {
     "slide_type": "slide"
    }
   },
   "source": [
    "# Million ways to avoid backtest overfitting：\n",
    "## 如何避免回測過度最佳化\n",
    "\n",
    "* Aug. 2015 @ COSCUP 2015\n",
    "* C.Y. Yen\n",
    "* yen.chiayi@gmail.com"
   ]
  },
  {
   "cell_type": "markdown",
   "metadata": {
    "slideshow": {
     "slide_type": "slide"
    }
   },
   "source": [
    "# Hi, 我是 Yen ;)\n",
    "* 疑，日元？\n",
    "* Python & R user\n",
    "* 曾任職於本土避險基金\n",
    "* 工作涵蓋\n",
    "    * 多因子交易模型的建構\n",
    "    * 資料 Extract-Transform-Load\n",
    "    * 機器學習 以及各種數值分析\n",
    "    \n",
    "--\n",
    "* 熱衷於參與 open source 社群活動，特別是與 Python 或 R 有關的活動\n",
    "* 是 <a href=\"https://www.facebook.com/groups/twrladies/?fref=ts\">TW R-Ladies</a> 的發起人之一，每個月最後一個周一聚會"
   ]
  },
  {
   "cell_type": "markdown",
   "metadata": {
    "slideshow": {
     "slide_type": "slide"
    }
   },
   "source": [
    "# 因為這是個開源的場合，至少要提供一些開源的東西吧！\n",
    "* 介紹一些開源的交易資料\n",
    "* 介紹一些開源的回測平台\n",
    "* 介紹一些開源的相關分析工具\n"
   ]
  },
  {
   "cell_type": "markdown",
   "metadata": {
    "slideshow": {
     "slide_type": "slide"
    }
   },
   "source": [
    "# 今天聊什麼？(TBC)\n",
    "### 顧名思義，一定要跟「回測」還有「過度最佳化」有關係吧~\n",
    "### 幾個關鍵字：\n",
    "1. 交易 (TBC link)\n",
    "2. 回測 (TBC link)\n",
    "3. 過度最佳化(TBC link)"
   ]
  },
  {
   "cell_type": "markdown",
   "metadata": {},
   "source": [
    "#2 Backtest\n",
    "* TDD - test-driven development\n",
    "* \"backtest\"-driven development\n",
    "* 科學研究 = 大膽假設 + 小心驗證\n",
    "* 量化投資也是一樣\n",
    "* 驗證的其中之一方法就是:回測\n",
    "* 回測：使用歷史數據來驗證投資策略的表現，也就是說，先拿歷史資料試試水溫，確定在過去活的下來\n",
    "* 表現\n",
    "    * 勝率\n",
    "    * 歷史獲利\n",
    "    * 報酬率、虧損率\n",
    "    * 持有時間\n",
    "    * 交易次數\n",
    "* 回測的限制\n",
    "    1. 過去不代表未來\n",
    "        * 有一只火鸡在笼子里被喂养了1000天，这只火鸡确信，每天都会有友善的人类“照顾它的最佳利益”。直到复活节的前一天，也就是火鸡在笼子里的第1001天，它依然认为主人还会来喂食，而没有想到它的大限已至（烤火鸡是感恩节的传统食物）。\n",
    "        * 回测亦是如此：它只能计算在已经成为历史的“historical data”上一个策略的表现，不能完美地预测这个策略在未来的表现。\n",
    "    2. 無法測試交互作用（market impact）\n",
    "        * 在实际的投资过程中，资金的流动会反过来影响市场的变化的，即：市场中的买入操作会抬升价格，而抛售操作会压低价格。但在回测的时候，历史数据是无法对策略的运作发生反应的"
   ]
  },
  {
   "cell_type": "markdown",
   "metadata": {},
   "source": [
    "# open source 回測工具\n",
    "* quantmod\n",
    "* quantopian\n",
    "# open source 歷史資料\n",
    "* yahoo finance / google finance\n",
    "* 小心 survival bias"
   ]
  },
  {
   "cell_type": "markdown",
   "metadata": {},
   "source": [
    "#3 回測過度配適？"
   ]
  },
  {
   "cell_type": "markdown",
   "metadata": {},
   "source": [
    "谢邀物理学家戴森年轻时就一个问题请教费米，费米讲了一句日后很著名的话：“我记得我的朋友约翰·冯·诺依曼（John von Neumann）曾经说过，用四个参数我可以拟合出一头大象，而用五个参数我可以让它的鼻子摆动。”所以对于交易来说，很重要的一点就是参数一定要少，或者是“参数/交易次数”要足够小。经验来看一个平均每日交易一次的策略，进行遍历的参数最多也不要超过三个，否则很容易陷入过度优化的陷阱。样本内外进行测试也是不错的方法，可以采用较近的时间段进行遍历，利用较远的时间段来观察其表现。当然也可以采用不断滚动的时间窗口进行遍历；或者对行情进行分类后分别遍历，然后通过主观判断市场后对不同阶段市场采取不同参数组的半人工方法。同时在参数选取时重要的一点是，不仅仅要看该点的参数获利如何，同时还要看这个参数附近的值域获利如何。做出参数和获利的曲线图后，孤立的高点显然更有可能是特殊的偶然情况造成的（尤其对交易次数不多的策略来说），而成片的高点说明该参数稳定性可能会更好。\n",
    "\n",
    "\n"
   ]
  },
  {
   "cell_type": "markdown",
   "metadata": {},
   "source": [
    "* parameter rubustness\n",
    "* Walking forward Analysis\n",
    "* Hold-out method\n",
    "* probability of backtest overfitting\n",
    "\n",
    "---\n",
    "以前有效, 時代變了\n",
    "* 回測樣本夠均勻(包含各種情況，如連續大漲和大跌)，舉例來說，如果您挑選的樣本是台指期2008~2009，當然回測出來，做空比做多好，那策略作空的機率就增加；如果您挑選台指期2009~2010，當然回測出來，做多比做空好，那策略作多的機率就增加。所以樣本挑選很重要，如果能用蒙地卡羅方法產生出隨機均勻含括所有可能情況(+-7%)的樣本更好。\n",
    "\n",
    "決定最佳化目標，很直覺的，每個人追求都是獲利最大化，但回測都是已過去的歷史資料，除非回到過去，不然歷史是不會重演的。因此個人看法認為最佳化目標不是獲利，而是獲利因子(Profit Factor， 總收入Gross Profit / 總虧損Gross Loss)以及勝率，這兩個數值才是真正檢視您的策略是否能穩定獲利的關鍵，所以相同獲利下，甚至獲利較差，都應該選獲利因子高及勝率高的策略。\n",
    "\n",
    "檢視回測的交易紀錄，這是使用TS、MC或奇狐等程式交易平台的使用者必定犯下的錯誤，每次只看不同策略回測出來的結果報告，根本沒看細項的交易紀錄，沒去了解是什麼原因及怎樣的情況所導致，例如：A策略回測表現優於B策略，就決定使用A策略來實單交易，卻忽略A策略回測在某天有重大的損失，而A策略程式根本就有bugs，只是特定情況才出現導致實際交易帳戶重大虧損。且檢視每次交易紀錄更可激發出更多策略想法，如最簡單避免重大虧損就是，直接加上超過一定虧損，便今天停止交易，因這就是策略的worst case。而程式交易的目的就是放大best case的獲利，縮小worst case的損失。\n",
    "\n",
    "Walk-Forward Analysis，是否您也有這樣感覺？每當歷史最佳化回測後得到的數值和參數，用在實際交易，總覺得表現不如回測結果，那是因為時空背景已經改變，最佳的數值和參數並不是固定線性不變，那數值和參數是隨時間非線性地改變，也許您永遠找不到那最佳化的方程式，但透過Walk-Forward Analysis卻可貼近它，所以當確認整個策略程式架構後，在實際交易之前，不要忘了用Walk-Forward Analysis方法去再次調整各樣數值及參數，只要用近期(半年或幾個月)的歷史資料，除了較快執行完，也可更貼近現在的時空環境。"
   ]
  },
  {
   "cell_type": "markdown",
   "metadata": {
    "collapsed": true
   },
   "source": [
    "* 介紹 TTR / quantmod\n",
    "    * http://blog.sciencenet.cn/blog-577790-830021.html\n",
    "* 六分鐘 quantmod 回測 http://www.bituzi.com/2014/12/Rbacktest6mins.html\n",
    "\n",
    "\n",
    "\n",
    "# 飛利浦-回測 overfitting\n",
    "* http://server.everfine.com.tw/blog/archives/2012/06/5--.html\n",
    "* http://www.zhihu.com/question/25573027\n",
    "\n",
    "#pbo\n",
    "* http://bbs.pinggu.org/thread-2991043-1-1.html\n"
   ]
  },
  {
   "cell_type": "markdown",
   "metadata": {},
   "source": [
    "# reference\n",
    "* 建置程式交易系統(5) - 回測與最佳化 http://server.everfine.com.tw/blog/archives/2012/06/5--.html"
   ]
  },
  {
   "cell_type": "code",
   "execution_count": null,
   "metadata": {
    "collapsed": true
   },
   "outputs": [],
   "source": []
  }
 ],
 "metadata": {
  "celltoolbar": "Slideshow",
  "kernelspec": {
   "display_name": "R",
   "language": "R",
   "name": "ir"
  },
  "language_info": {
   "codemirror_mode": "r",
   "file_extension": ".r",
   "mimetype": "text/x-r-source",
   "name": "R",
   "pygments_lexer": "r",
   "version": "3.1.2"
  }
 },
 "nbformat": 4,
 "nbformat_minor": 0
}
